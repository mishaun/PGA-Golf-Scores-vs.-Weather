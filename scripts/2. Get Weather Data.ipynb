{
 "cells": [
  {
   "cell_type": "markdown",
   "metadata": {},
   "source": [
    "# Read Libs"
   ]
  },
  {
   "cell_type": "code",
   "execution_count": 1,
   "metadata": {},
   "outputs": [
    {
     "data": {
      "text/html": [
       "\n",
       "<style>\n",
       "    .container { width:85% !important; }\n",
       "</style>\n"
      ],
      "text/plain": [
       "<IPython.core.display.HTML object>"
      ]
     },
     "metadata": {},
     "output_type": "display_data"
    }
   ],
   "source": [
    "import pandas as pd\n",
    "import datetime as dt\n",
    "import numpy as np\n",
    "import requests as req\n",
    "import os\n",
    "from selenium import webdriver\n",
    "from selenium.webdriver.common.by import By\n",
    "from selenium.webdriver.support.ui import WebDriverWait\n",
    "from selenium.webdriver.support import expected_conditions as EC\n",
    "from selenium.webdriver.common.keys import Keys\n",
    "import time\n",
    "\n",
    "\n",
    "\n",
    "# display and output settings\n",
    "from IPython.core.interactiveshell import InteractiveShell\n",
    "InteractiveShell.ast_node_interactivity = \"all\"\n",
    "\n",
    "from IPython.display import display, HTML\n",
    "\n",
    "display(HTML('''\n",
    "<style>\n",
    "    .container { width:85% !important; }\n",
    "</style>\n",
    "'''))\n",
    "\n",
    "pd.set_option('display.min_rows', 100)"
   ]
  },
  {
   "cell_type": "code",
   "execution_count": 18,
   "metadata": {},
   "outputs": [
    {
     "name": "stderr",
     "output_type": "stream",
     "text": [
      "/var/folders/sj/kb7kr7w572z54pgv0pftb9v00000gn/T/ipykernel_55807/1777907275.py:18: DeprecationWarning: executable_path has been deprecated, please pass in a Service object\n",
      "  driver = webdriver.Chrome(executable_path=chrome_driver_path)\n"
     ]
    }
   ],
   "source": [
    "# Specify the path to the ChromeDriver executable\n",
    "chrome_driver_path = '../drivers/chromedriver_arm'\n",
    "# firefox_driver_path = '../drivers/geckodriver'\n",
    "\n",
    "#link for solution to cannot open chromedriver\n",
    "# https://stackoverflow.com/questions/60362018/macos-catalinav-10-15-3-error-chromedriver-cannot-be-opened-because-the-de\n",
    "# xattr -d com.apple.quarantine\n",
    "\n",
    "# Initialize the Chrome WebDriver\n",
    "# options = webdriver.ChromeOptions()\n",
    "# options.add_argument('--headless')\n",
    "# options.add_argument('--disable-gpu')  # Required for headless mode to work properly on Windows\n",
    "# options.add_argument('--no-sandbox')  # Bypass OS security model, required for running as root user\n",
    "# options.add_argument('--disable-dev-shm-usage')  # Overcome limited resource problems\n",
    "\n",
    "# driver = webdriver.Chrome(executable_path=chrome_driver_path, options=options)\n",
    "\n",
    "driver = webdriver.Chrome(executable_path=chrome_driver_path)\n",
    "\n",
    "\n",
    "# Open the Weather Underground history page\n",
    "driver.get(\"https://www.wunderground.com/history\")\n",
    "\n",
    "# Wait for the page to load and locate the city input field\n",
    "city_input = WebDriverWait(driver, 10).until(\n",
    "    EC.presence_of_element_located((By.ID, \"historySearch\"))\n",
    ")\n",
    "\n",
    "# Enter the city name\n",
    "city_input.clear()\n",
    "city_input.send_keys(\"Augusta, GA\")\n",
    "time.sleep(2)\n",
    "city_input.send_keys(Keys.RETURN)\n",
    "\n"
   ]
  },
  {
   "cell_type": "code",
   "execution_count": 19,
   "metadata": {},
   "outputs": [
    {
     "name": "stdout",
     "output_type": "stream",
     "text": [
      "Timed out waiting for page to load\n",
      "https://www.wunderground.com/history/daily/KAGS/date/2024-10-13\n"
     ]
    }
   ],
   "source": [
    "# month_selection_xpath = \"/html/body/app-root/app-history-search/one-column-layout/wu-header/sidenav/mat-sidenav-container/mat-sidenav-content/div[2]/section/div[2]/div/div/div/div/form/lib-date-selector/div/select[1]\"\n",
    "# month_selection = driver.find_element(By.XPATH, month_selection_xpath)\n",
    "\n",
    "# day_selection_xpath = \"/html/body/app-root/app-history-search/one-column-layout/wu-header/sidenav/mat-sidenav-container/mat-sidenav-content/div[2]/section/div[2]/div/div/div/div/form/lib-date-selector/div/select[2]\"\n",
    "# day_selection = driver.find_element(By.XPATH, day_selection_xpath)\n",
    "\n",
    "# year_selection_xpath = \"/html/body/app-root/app-history-search/one-column-layout/wu-header/sidenav/mat-sidenav-container/mat-sidenav-content/div[2]/section/div[2]/div/div/div/div/form/lib-date-selector/div/select[3]\"\n",
    "# year_selection = driver.find_element(By.XPATH, year_selection_xpath)\n",
    "\n",
    "# month_selection.click()\n",
    "# month_selection.send_keys(\"January\")\n",
    "\n",
    "# day_selection.click()\n",
    "# day_selection.send_keys(\"1\")\n",
    "\n",
    "# year_selection.click()\n",
    "# year_selection.send_keys(\"2020\")\n",
    "# year_selection.send_keys(Keys.RETURN)\n",
    "\n",
    "from selenium.common.exceptions import TimeoutException\n",
    "driver.set_page_load_timeout(10)\n",
    "\n",
    "# Submit the form\n",
    "submit_button_xpath = \"/html/body/app-root/app-history-search/one-column-layout/wu-header/sidenav/mat-sidenav-container/mat-sidenav-content/div[2]/section/div[2]/div/div/div/div/form/lib-date-selector/div/input\"\n",
    "submit_button = driver.find_element(By.XPATH, submit_button_xpath)\n",
    "\n",
    "\n",
    "submit_button.click()\n",
    "\n",
    "title_xpath = \"/html/body/app-root/app-history/one-column-layout/wu-header/sidenav/mat-sidenav-container/mat-sidenav-content/div[2]/section/div[1]/lib-city-header/div[1]/div/h1/span[1]\"\n",
    "\n",
    "try:\n",
    "    title_element = WebDriverWait(driver, 10).until(\n",
    "        EC.presence_of_element_located((By.XPATH, title_xpath))\n",
    "    )\n",
    "except TimeoutException:\n",
    "    driver.execute_script(\"window.stop();\")\n",
    "    print(\"Timed out waiting for page to load\")\n",
    "    current_url = driver.current_url\n",
    "    print(current_url)\n",
    "\n",
    "\n",
    "    \n",
    "\n"
   ]
  },
  {
   "cell_type": "code",
   "execution_count": 15,
   "metadata": {},
   "outputs": [
    {
     "data": {
      "text/plain": [
       "'https://www.wunderground.com/subscribe?tpcc=mktgWU-history-subs-nav_goAdFree'"
      ]
     },
     "execution_count": 15,
     "metadata": {},
     "output_type": "execute_result"
    }
   ],
   "source": [
    "current_url"
   ]
  },
  {
   "cell_type": "code",
   "execution_count": 34,
   "metadata": {},
   "outputs": [],
   "source": [
    "# Find the table element on the webpage\n",
    "daily_table_xpath = \"/html/body/app-root/app-history/one-column-layout/wu-header/sidenav/mat-sidenav-container/mat-sidenav-content/div[2]/section/div[2]/div[1]/div[5]/div[1]/div/lib-city-history-observation/div/div[2]/table\"\n",
    "table = driver.find_element(By.XPATH, daily_table_xpath)\n",
    "\n",
    "# Extract the HTML content of the table\n",
    "table_html = table.get_attribute('outerHTML')\n",
    "\n",
    "# Use pandas to read the HTML content into a DataFrame\n",
    "df_hourly_weather = pd.read_html(table_html)[0]\n"
   ]
  }
 ],
 "metadata": {
  "kernelspec": {
   "display_name": "myenv_arm64",
   "language": "python",
   "name": "python3"
  },
  "language_info": {
   "codemirror_mode": {
    "name": "ipython",
    "version": 3
   },
   "file_extension": ".py",
   "mimetype": "text/x-python",
   "name": "python",
   "nbconvert_exporter": "python",
   "pygments_lexer": "ipython3",
   "version": "3.9.9"
  }
 },
 "nbformat": 4,
 "nbformat_minor": 2
}
