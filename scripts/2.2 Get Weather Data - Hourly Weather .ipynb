{
 "cells": [
  {
   "cell_type": "markdown",
   "metadata": {},
   "source": [
    "# Read Libs"
   ]
  },
  {
   "cell_type": "code",
   "execution_count": 1,
   "metadata": {},
   "outputs": [
    {
     "data": {
      "text/html": [
       "\n",
       "<style>\n",
       "    .container { width:85% !important; }\n",
       "</style>\n"
      ],
      "text/plain": [
       "<IPython.core.display.HTML object>"
      ]
     },
     "metadata": {},
     "output_type": "display_data"
    }
   ],
   "source": [
    "import pandas as pd\n",
    "import datetime as dt\n",
    "import numpy as np\n",
    "import requests as req\n",
    "import os\n",
    "from bs4 import BeautifulSoup\n",
    "import time\n",
    "\n",
    "\n",
    "\n",
    "# display and output settings\n",
    "from IPython.core.interactiveshell import InteractiveShell\n",
    "InteractiveShell.ast_node_interactivity = \"all\"\n",
    "\n",
    "from IPython.display import display, HTML\n",
    "\n",
    "\n",
    "\n",
    "\n",
    "display(HTML('''\n",
    "<style>\n",
    "    .container { width:85% !important; }\n",
    "</style>\n",
    "'''))\n",
    "\n",
    "pd.set_option('display.min_rows', 100)"
   ]
  },
  {
   "cell_type": "markdown",
   "metadata": {},
   "source": [
    "# Read in Tournament Details"
   ]
  },
  {
   "cell_type": "code",
   "execution_count": 2,
   "metadata": {},
   "outputs": [],
   "source": [
    "path_tournament_detail = \"../data/transformed_data/tournament_info/2024-10-06 16h20m45s/tournament_details_transformed.csv\"\n",
    "df_tournament_details = pd.read_csv(path_tournament_detail)"
   ]
  },
  {
   "cell_type": "code",
   "execution_count": 10,
   "metadata": {},
   "outputs": [],
   "source": [
    "output_path = \"../data/raw_data/weather/hourly_weather/\"\n",
    "timestamp_run = dt.datetime.now().strftime('%Y-%m-%d %Hh%Mm%Ss')\n",
    "\n",
    "os.mkdir(os.path.join(output_path, timestamp_run))\n",
    "\n",
    "df_unique_cities.to_csv(f'{output_path}/{timestamp_run}/weather_city_base_urls.csv', index=False)"
   ]
  },
  {
   "cell_type": "markdown",
   "metadata": {},
   "source": [
    "# Get Table from URLs"
   ]
  },
  {
   "cell_type": "code",
   "execution_count": 22,
   "metadata": {},
   "outputs": [
    {
     "name": "stderr",
     "output_type": "stream",
     "text": [
      "/var/folders/sj/kb7kr7w572z54pgv0pftb9v00000gn/T/ipykernel_55807/1463818549.py:9: FutureWarning: Passing literal html to 'read_html' is deprecated and will be removed in a future version. To read from a literal string, wrap it in a 'StringIO' object.\n",
      "  df_hourly_weather = pd.read_html(table_html)[0]\n"
     ]
    }
   ],
   "source": [
    "# Find the table element on the webpage\n",
    "daily_table_xpath = \"/html/body/app-root/app-history/one-column-layout/wu-header/sidenav/mat-sidenav-container/mat-sidenav-content/div[2]/section/div[2]/div[1]/div[5]/div[1]/div/lib-city-history-observation/div/div[2]/table\"\n",
    "table = driver.find_element(By.XPATH, daily_table_xpath)\n",
    "\n",
    "# Extract the HTML content of the table\n",
    "table_html = table.get_attribute('outerHTML')\n",
    "\n",
    "# Use pandas to read the HTML content into a DataFrame\n",
    "df_hourly_weather = pd.read_html(table_html)[0]\n"
   ]
  },
  {
   "cell_type": "code",
   "execution_count": null,
   "metadata": {},
   "outputs": [],
   "source": [
    "# elements for other weather inputs\n",
    "    \n",
    "# month_selection_xpath = \"/html/body/app-root/app-history-search/one-column-layout/wu-header/sidenav/mat-sidenav-container/mat-sidenav-content/div[2]/section/div[2]/div/div/div/div/form/lib-date-selector/div/select[1]\"\n",
    "# month_selection = driver.find_element(By.XPATH, month_selection_xpath)\n",
    "\n",
    "# day_selection_xpath = \"/html/body/app-root/app-history-search/one-column-layout/wu-header/sidenav/mat-sidenav-container/mat-sidenav-content/div[2]/section/div[2]/div/div/div/div/form/lib-date-selector/div/select[2]\"\n",
    "# day_selection = driver.find_element(By.XPATH, day_selection_xpath)\n",
    "\n",
    "# year_selection_xpath = \"/html/body/app-root/app-history-search/one-column-layout/wu-header/sidenav/mat-sidenav-container/mat-sidenav-content/div[2]/section/div[2]/div/div/div/div/form/lib-date-selector/div/select[3]\"\n",
    "# year_selection = driver.find_element(By.XPATH, year_selection_xpath)\n",
    "\n",
    "# month_selection.click()\n",
    "# month_selection.send_keys(\"January\")\n",
    "\n",
    "# day_selection.click()\n",
    "# day_selection.send_keys(\"1\")\n",
    "\n",
    "# year_selection.click()\n",
    "# year_selection.send_keys(\"2020\")\n",
    "# year_selection.send_keys(Keys.RETURN)"
   ]
  },
  {
   "cell_type": "code",
   "execution_count": null,
   "metadata": {},
   "outputs": [],
   "source": []
  },
  {
   "cell_type": "code",
   "execution_count": null,
   "metadata": {},
   "outputs": [],
   "source": []
  },
  {
   "cell_type": "code",
   "execution_count": null,
   "metadata": {},
   "outputs": [],
   "source": []
  },
  {
   "cell_type": "code",
   "execution_count": null,
   "metadata": {},
   "outputs": [],
   "source": []
  },
  {
   "cell_type": "code",
   "execution_count": null,
   "metadata": {},
   "outputs": [],
   "source": []
  }
 ],
 "metadata": {
  "kernelspec": {
   "display_name": "myenv_arm64",
   "language": "python",
   "name": "python3"
  },
  "language_info": {
   "codemirror_mode": {
    "name": "ipython",
    "version": 3
   },
   "file_extension": ".py",
   "mimetype": "text/x-python",
   "name": "python",
   "nbconvert_exporter": "python",
   "pygments_lexer": "ipython3",
   "version": "3.9.9"
  }
 },
 "nbformat": 4,
 "nbformat_minor": 2
}
