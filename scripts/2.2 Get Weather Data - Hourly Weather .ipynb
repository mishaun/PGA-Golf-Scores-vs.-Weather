{
 "cells": [
  {
   "cell_type": "markdown",
   "metadata": {},
   "source": [
    "# Read Libs"
   ]
  },
  {
   "cell_type": "code",
   "execution_count": 35,
   "metadata": {},
   "outputs": [
    {
     "data": {
      "text/html": [
       "\n",
       "<style>\n",
       "    .container { width:85% !important; }\n",
       "</style>\n"
      ],
      "text/plain": [
       "<IPython.core.display.HTML object>"
      ]
     },
     "metadata": {},
     "output_type": "display_data"
    }
   ],
   "source": [
    "import pandas as pd\n",
    "import datetime as dt\n",
    "import numpy as np\n",
    "import requests as req\n",
    "import os\n",
    "from bs4 import BeautifulSoup\n",
    "import html5lib\n",
    "import time\n",
    "import re\n",
    "\n",
    "from selenium import webdriver\n",
    "from selenium.webdriver.common.by import By\n",
    "from selenium.webdriver.support.ui import WebDriverWait\n",
    "from selenium.webdriver.support import expected_conditions as EC\n",
    "\n",
    "# display and output settings\n",
    "from IPython.core.interactiveshell import InteractiveShell\n",
    "InteractiveShell.ast_node_interactivity = \"all\"\n",
    "\n",
    "from IPython.display import display, HTML\n",
    "\n",
    "\n",
    "\n",
    "\n",
    "display(HTML('''\n",
    "<style>\n",
    "    .container { width:85% !important; }\n",
    "</style>\n",
    "'''))\n",
    "\n",
    "pd.set_option('display.min_rows', 100)"
   ]
  },
  {
   "cell_type": "markdown",
   "metadata": {},
   "source": [
    "# Read in Tournament & Weather URL Details"
   ]
  },
  {
   "cell_type": "code",
   "execution_count": 36,
   "metadata": {},
   "outputs": [],
   "source": [
    "path_tournament_detail = \"../data/transformed_data/tournament_info/2024-10-06 16h20m45s/tournament_details_transformed.csv\"\n",
    "path_tournament_scores = \"../data/transformed_data/tournament_scores/2024-10-06 16h20m45s/tournament_scores_transformed.csv\"\n",
    "path_weather_urls = \"../data/raw_data/weather/weather_city_base_urls/2024-10-26 12h17m18s/weather_city_base_urls.csv\"\n",
    "\n",
    "df_tournament_details = pd.read_csv(path_tournament_detail)\n",
    "df_tournament_scores = pd.read_csv(path_tournament_scores)\n",
    "df_weather_urls = pd.read_csv(path_weather_urls)"
   ]
  },
  {
   "cell_type": "code",
   "execution_count": 37,
   "metadata": {},
   "outputs": [
    {
     "data": {
      "text/html": [
       "<div>\n",
       "<style scoped>\n",
       "    .dataframe tbody tr th:only-of-type {\n",
       "        vertical-align: middle;\n",
       "    }\n",
       "\n",
       "    .dataframe tbody tr th {\n",
       "        vertical-align: top;\n",
       "    }\n",
       "\n",
       "    .dataframe thead th {\n",
       "        text-align: right;\n",
       "    }\n",
       "</style>\n",
       "<table border=\"1\" class=\"dataframe\">\n",
       "  <thead>\n",
       "    <tr style=\"text-align: right;\">\n",
       "      <th></th>\n",
       "      <th>event_id</th>\n",
       "      <th>tournament_title</th>\n",
       "      <th>event_date</th>\n",
       "      <th>purse</th>\n",
       "      <th>city</th>\n",
       "      <th>Yards</th>\n",
       "      <th>par</th>\n",
       "      <th>golf_course</th>\n",
       "      <th>start_date</th>\n",
       "      <th>end_date</th>\n",
       "    </tr>\n",
       "  </thead>\n",
       "  <tbody>\n",
       "    <tr>\n",
       "      <th>0</th>\n",
       "      <td>1</td>\n",
       "      <td>WGC-Accenture Match Play Championship</td>\n",
       "      <td>January 4 - 7, 2001</td>\n",
       "      <td>5000000.0</td>\n",
       "      <td>NaN</td>\n",
       "      <td>NaN</td>\n",
       "      <td>NaN</td>\n",
       "      <td>NaN</td>\n",
       "      <td>2001-01-04</td>\n",
       "      <td>2001-01-07</td>\n",
       "    </tr>\n",
       "    <tr>\n",
       "      <th>1</th>\n",
       "      <td>2</td>\n",
       "      <td>Mercedes Championships</td>\n",
       "      <td>January 11 - 14, 2001</td>\n",
       "      <td>3500000.0</td>\n",
       "      <td>Kapalua, HI</td>\n",
       "      <td>7411.0</td>\n",
       "      <td>73.0</td>\n",
       "      <td>Kapalua Resort (Plantation Course)</td>\n",
       "      <td>2001-01-11</td>\n",
       "      <td>2001-01-14</td>\n",
       "    </tr>\n",
       "    <tr>\n",
       "      <th>2</th>\n",
       "      <td>3</td>\n",
       "      <td>Touchstone Energy Tucson Open</td>\n",
       "      <td>January 11 - 14, 2001</td>\n",
       "      <td>3000000.0</td>\n",
       "      <td>Tucson, AZ</td>\n",
       "      <td>7213.0</td>\n",
       "      <td>72.0</td>\n",
       "      <td>Omni Tucson National Golf Resort and Spa</td>\n",
       "      <td>2001-01-11</td>\n",
       "      <td>2001-01-14</td>\n",
       "    </tr>\n",
       "    <tr>\n",
       "      <th>3</th>\n",
       "      <td>4</td>\n",
       "      <td>Sony Open in Hawaii</td>\n",
       "      <td>January 18 - 21, 2001</td>\n",
       "      <td>4000000.0</td>\n",
       "      <td>Honolulu, HI</td>\n",
       "      <td>7044.0</td>\n",
       "      <td>70.0</td>\n",
       "      <td>Waialae Country Club</td>\n",
       "      <td>2001-01-18</td>\n",
       "      <td>2001-01-21</td>\n",
       "    </tr>\n",
       "    <tr>\n",
       "      <th>4</th>\n",
       "      <td>5</td>\n",
       "      <td>Phoenix Open</td>\n",
       "      <td>January 25 - 28, 2001</td>\n",
       "      <td>4000000.0</td>\n",
       "      <td>Scottsdale, AZ</td>\n",
       "      <td>NaN</td>\n",
       "      <td>71.0</td>\n",
       "      <td>TPC Scottsdale (Stadium Course)</td>\n",
       "      <td>2001-01-25</td>\n",
       "      <td>2001-01-28</td>\n",
       "    </tr>\n",
       "  </tbody>\n",
       "</table>\n",
       "</div>"
      ],
      "text/plain": [
       "   event_id                       tournament_title             event_date  \\\n",
       "0         1  WGC-Accenture Match Play Championship    January 4 - 7, 2001   \n",
       "1         2                 Mercedes Championships  January 11 - 14, 2001   \n",
       "2         3          Touchstone Energy Tucson Open  January 11 - 14, 2001   \n",
       "3         4                    Sony Open in Hawaii  January 18 - 21, 2001   \n",
       "4         5                           Phoenix Open  January 25 - 28, 2001   \n",
       "\n",
       "       purse             city   Yards   par  \\\n",
       "0  5000000.0              NaN     NaN   NaN   \n",
       "1  3500000.0      Kapalua, HI  7411.0  73.0   \n",
       "2  3000000.0       Tucson, AZ  7213.0  72.0   \n",
       "3  4000000.0     Honolulu, HI  7044.0  70.0   \n",
       "4  4000000.0   Scottsdale, AZ     NaN  71.0   \n",
       "\n",
       "                                golf_course  start_date    end_date  \n",
       "0                                       NaN  2001-01-04  2001-01-07  \n",
       "1        Kapalua Resort (Plantation Course)  2001-01-11  2001-01-14  \n",
       "2  Omni Tucson National Golf Resort and Spa  2001-01-11  2001-01-14  \n",
       "3                      Waialae Country Club  2001-01-18  2001-01-21  \n",
       "4           TPC Scottsdale (Stadium Course)  2001-01-25  2001-01-28  "
      ]
     },
     "execution_count": 37,
     "metadata": {},
     "output_type": "execute_result"
    },
    {
     "data": {
      "text/html": [
       "<div>\n",
       "<style scoped>\n",
       "    .dataframe tbody tr th:only-of-type {\n",
       "        vertical-align: middle;\n",
       "    }\n",
       "\n",
       "    .dataframe tbody tr th {\n",
       "        vertical-align: top;\n",
       "    }\n",
       "\n",
       "    .dataframe thead th {\n",
       "        text-align: right;\n",
       "    }\n",
       "</style>\n",
       "<table border=\"1\" class=\"dataframe\">\n",
       "  <thead>\n",
       "    <tr style=\"text-align: right;\">\n",
       "      <th></th>\n",
       "      <th>City</th>\n",
       "      <th>base_url</th>\n",
       "      <th>is_golf_club</th>\n",
       "    </tr>\n",
       "  </thead>\n",
       "  <tbody>\n",
       "    <tr>\n",
       "      <th>0</th>\n",
       "      <td>Kapalua, HI</td>\n",
       "      <td>https://www.wunderground.com/history/daily/RJOA/date/2024-10-26</td>\n",
       "      <td>False</td>\n",
       "    </tr>\n",
       "    <tr>\n",
       "      <th>1</th>\n",
       "      <td>Tucson, AZ</td>\n",
       "      <td>https://www.wunderground.com/history/daily/KTUS/date/2024-10-26</td>\n",
       "      <td>False</td>\n",
       "    </tr>\n",
       "    <tr>\n",
       "      <th>2</th>\n",
       "      <td>Honolulu, HI</td>\n",
       "      <td>https://www.wunderground.com/history/daily/PHNL/date/2024-10-26</td>\n",
       "      <td>False</td>\n",
       "    </tr>\n",
       "    <tr>\n",
       "      <th>3</th>\n",
       "      <td>Scottsdale, AZ</td>\n",
       "      <td>https://www.wunderground.com/history/daily/KPHX/date/2024-10-26</td>\n",
       "      <td>False</td>\n",
       "    </tr>\n",
       "    <tr>\n",
       "      <th>4</th>\n",
       "      <td>Pacific Palisades, CA</td>\n",
       "      <td>https://www.wunderground.com/history/daily/KLAX/date/2024-10-26</td>\n",
       "      <td>False</td>\n",
       "    </tr>\n",
       "  </tbody>\n",
       "</table>\n",
       "</div>"
      ],
      "text/plain": [
       "                     City  \\\n",
       "0             Kapalua, HI   \n",
       "1              Tucson, AZ   \n",
       "2            Honolulu, HI   \n",
       "3          Scottsdale, AZ   \n",
       "4   Pacific Palisades, CA   \n",
       "\n",
       "                                                          base_url  \\\n",
       "0  https://www.wunderground.com/history/daily/RJOA/date/2024-10-26   \n",
       "1  https://www.wunderground.com/history/daily/KTUS/date/2024-10-26   \n",
       "2  https://www.wunderground.com/history/daily/PHNL/date/2024-10-26   \n",
       "3  https://www.wunderground.com/history/daily/KPHX/date/2024-10-26   \n",
       "4  https://www.wunderground.com/history/daily/KLAX/date/2024-10-26   \n",
       "\n",
       "   is_golf_club  \n",
       "0         False  \n",
       "1         False  \n",
       "2         False  \n",
       "3         False  \n",
       "4         False  "
      ]
     },
     "execution_count": 37,
     "metadata": {},
     "output_type": "execute_result"
    },
    {
     "data": {
      "text/html": [
       "<div>\n",
       "<style scoped>\n",
       "    .dataframe tbody tr th:only-of-type {\n",
       "        vertical-align: middle;\n",
       "    }\n",
       "\n",
       "    .dataframe tbody tr th {\n",
       "        vertical-align: top;\n",
       "    }\n",
       "\n",
       "    .dataframe thead th {\n",
       "        text-align: right;\n",
       "    }\n",
       "</style>\n",
       "<table border=\"1\" class=\"dataframe\">\n",
       "  <thead>\n",
       "    <tr style=\"text-align: right;\">\n",
       "      <th></th>\n",
       "      <th>event_id</th>\n",
       "      <th>POS</th>\n",
       "      <th>PLAYER</th>\n",
       "      <th>SCORE</th>\n",
       "      <th>R1</th>\n",
       "      <th>R2</th>\n",
       "      <th>R3</th>\n",
       "      <th>R4</th>\n",
       "      <th>TOT</th>\n",
       "      <th>EARNINGS</th>\n",
       "      <th>FEDEX PTS</th>\n",
       "      <th>par</th>\n",
       "    </tr>\n",
       "  </thead>\n",
       "  <tbody>\n",
       "    <tr>\n",
       "      <th>0</th>\n",
       "      <td>2</td>\n",
       "      <td>1</td>\n",
       "      <td>Jim Furyk</td>\n",
       "      <td>-18</td>\n",
       "      <td>69</td>\n",
       "      <td>69</td>\n",
       "      <td>69</td>\n",
       "      <td>67</td>\n",
       "      <td>274</td>\n",
       "      <td>$630,000</td>\n",
       "      <td>NaN</td>\n",
       "      <td>73.0</td>\n",
       "    </tr>\n",
       "    <tr>\n",
       "      <th>1</th>\n",
       "      <td>2</td>\n",
       "      <td>2</td>\n",
       "      <td>Rory Sabbatini</td>\n",
       "      <td>-17</td>\n",
       "      <td>69</td>\n",
       "      <td>69</td>\n",
       "      <td>65</td>\n",
       "      <td>72</td>\n",
       "      <td>275</td>\n",
       "      <td>$380,000</td>\n",
       "      <td>NaN</td>\n",
       "      <td>73.0</td>\n",
       "    </tr>\n",
       "    <tr>\n",
       "      <th>2</th>\n",
       "      <td>2</td>\n",
       "      <td>T3</td>\n",
       "      <td>Ernie Els</td>\n",
       "      <td>-16</td>\n",
       "      <td>68</td>\n",
       "      <td>66</td>\n",
       "      <td>73</td>\n",
       "      <td>69</td>\n",
       "      <td>276</td>\n",
       "      <td>$203,000</td>\n",
       "      <td>NaN</td>\n",
       "      <td>73.0</td>\n",
       "    </tr>\n",
       "    <tr>\n",
       "      <th>3</th>\n",
       "      <td>2</td>\n",
       "      <td>T3</td>\n",
       "      <td>Vijay Singh</td>\n",
       "      <td>-16</td>\n",
       "      <td>71</td>\n",
       "      <td>67</td>\n",
       "      <td>67</td>\n",
       "      <td>71</td>\n",
       "      <td>276</td>\n",
       "      <td>$203,000</td>\n",
       "      <td>NaN</td>\n",
       "      <td>73.0</td>\n",
       "    </tr>\n",
       "    <tr>\n",
       "      <th>4</th>\n",
       "      <td>2</td>\n",
       "      <td>5</td>\n",
       "      <td>John Huston</td>\n",
       "      <td>-15</td>\n",
       "      <td>74</td>\n",
       "      <td>67</td>\n",
       "      <td>69</td>\n",
       "      <td>67</td>\n",
       "      <td>277</td>\n",
       "      <td>$140,000</td>\n",
       "      <td>NaN</td>\n",
       "      <td>73.0</td>\n",
       "    </tr>\n",
       "  </tbody>\n",
       "</table>\n",
       "</div>"
      ],
      "text/plain": [
       "   event_id POS          PLAYER SCORE  R1  R2  R3  R4  TOT  EARNINGS  \\\n",
       "0         2   1       Jim Furyk   -18  69  69  69  67  274  $630,000   \n",
       "1         2   2  Rory Sabbatini   -17  69  69  65  72  275  $380,000   \n",
       "2         2  T3       Ernie Els   -16  68  66  73  69  276  $203,000   \n",
       "3         2  T3     Vijay Singh   -16  71  67  67  71  276  $203,000   \n",
       "4         2   5     John Huston   -15  74  67  69  67  277  $140,000   \n",
       "\n",
       "   FEDEX PTS   par  \n",
       "0        NaN  73.0  \n",
       "1        NaN  73.0  \n",
       "2        NaN  73.0  \n",
       "3        NaN  73.0  \n",
       "4        NaN  73.0  "
      ]
     },
     "execution_count": 37,
     "metadata": {},
     "output_type": "execute_result"
    }
   ],
   "source": [
    "df_tournament_details.head()\n",
    "df_weather_urls.head()\n",
    "df_tournament_scores.head()"
   ]
  },
  {
   "cell_type": "markdown",
   "metadata": {},
   "source": [
    "# Clean Weather Urls"
   ]
  },
  {
   "cell_type": "code",
   "execution_count": 38,
   "metadata": {},
   "outputs": [
    {
     "data": {
      "text/plain": [
       "base_url\n",
       "63    266\n",
       "3     140\n",
       "36      7\n",
       "Name: count, dtype: int64"
      ]
     },
     "execution_count": 38,
     "metadata": {},
     "output_type": "execute_result"
    }
   ],
   "source": [
    "df_weather_urls['base_url'].apply(lambda x: len(str(x))).value_counts()\n"
   ]
  },
  {
   "cell_type": "code",
   "execution_count": 39,
   "metadata": {},
   "outputs": [],
   "source": [
    "# replace urls if they are not valid by rules of length being less than 62\n",
    "# takes away urls that could not find a city and are null\n",
    "df_weather_urls['base_url'] = df_weather_urls['base_url'].apply(lambda x: None if len(str(x)) < 62 else x)"
   ]
  },
  {
   "cell_type": "markdown",
   "metadata": {},
   "source": [
    "# Create tournament calendar | Round by Round Dates"
   ]
  },
  {
   "cell_type": "code",
   "execution_count": 40,
   "metadata": {},
   "outputs": [
    {
     "data": {
      "text/html": [
       "<div>\n",
       "<style scoped>\n",
       "    .dataframe tbody tr th:only-of-type {\n",
       "        vertical-align: middle;\n",
       "    }\n",
       "\n",
       "    .dataframe tbody tr th {\n",
       "        vertical-align: top;\n",
       "    }\n",
       "\n",
       "    .dataframe thead th {\n",
       "        text-align: right;\n",
       "    }\n",
       "</style>\n",
       "<table border=\"1\" class=\"dataframe\">\n",
       "  <thead>\n",
       "    <tr style=\"text-align: right;\">\n",
       "      <th></th>\n",
       "      <th>event_id</th>\n",
       "      <th>tournament_title</th>\n",
       "      <th>event_date</th>\n",
       "      <th>purse</th>\n",
       "      <th>city</th>\n",
       "      <th>Yards</th>\n",
       "      <th>par</th>\n",
       "      <th>golf_course</th>\n",
       "      <th>start_date</th>\n",
       "      <th>end_date</th>\n",
       "    </tr>\n",
       "  </thead>\n",
       "  <tbody>\n",
       "    <tr>\n",
       "      <th>0</th>\n",
       "      <td>1</td>\n",
       "      <td>WGC-Accenture Match Play Championship</td>\n",
       "      <td>January 4 - 7, 2001</td>\n",
       "      <td>5000000.0</td>\n",
       "      <td>NaN</td>\n",
       "      <td>NaN</td>\n",
       "      <td>NaN</td>\n",
       "      <td>NaN</td>\n",
       "      <td>2001-01-04</td>\n",
       "      <td>2001-01-07</td>\n",
       "    </tr>\n",
       "    <tr>\n",
       "      <th>1</th>\n",
       "      <td>2</td>\n",
       "      <td>Mercedes Championships</td>\n",
       "      <td>January 11 - 14, 2001</td>\n",
       "      <td>3500000.0</td>\n",
       "      <td>Kapalua, HI</td>\n",
       "      <td>7411.0</td>\n",
       "      <td>73.0</td>\n",
       "      <td>Kapalua Resort (Plantation Course)</td>\n",
       "      <td>2001-01-11</td>\n",
       "      <td>2001-01-14</td>\n",
       "    </tr>\n",
       "    <tr>\n",
       "      <th>2</th>\n",
       "      <td>3</td>\n",
       "      <td>Touchstone Energy Tucson Open</td>\n",
       "      <td>January 11 - 14, 2001</td>\n",
       "      <td>3000000.0</td>\n",
       "      <td>Tucson, AZ</td>\n",
       "      <td>7213.0</td>\n",
       "      <td>72.0</td>\n",
       "      <td>Omni Tucson National Golf Resort and Spa</td>\n",
       "      <td>2001-01-11</td>\n",
       "      <td>2001-01-14</td>\n",
       "    </tr>\n",
       "  </tbody>\n",
       "</table>\n",
       "</div>"
      ],
      "text/plain": [
       "   event_id                       tournament_title             event_date  \\\n",
       "0         1  WGC-Accenture Match Play Championship    January 4 - 7, 2001   \n",
       "1         2                 Mercedes Championships  January 11 - 14, 2001   \n",
       "2         3          Touchstone Energy Tucson Open  January 11 - 14, 2001   \n",
       "\n",
       "       purse          city   Yards   par  \\\n",
       "0  5000000.0           NaN     NaN   NaN   \n",
       "1  3500000.0   Kapalua, HI  7411.0  73.0   \n",
       "2  3000000.0    Tucson, AZ  7213.0  72.0   \n",
       "\n",
       "                                golf_course  start_date    end_date  \n",
       "0                                       NaN  2001-01-04  2001-01-07  \n",
       "1        Kapalua Resort (Plantation Course)  2001-01-11  2001-01-14  \n",
       "2  Omni Tucson National Golf Resort and Spa  2001-01-11  2001-01-14  "
      ]
     },
     "execution_count": 40,
     "metadata": {},
     "output_type": "execute_result"
    },
    {
     "name": "stdout",
     "output_type": "stream",
     "text": [
      "<class 'pandas.core.frame.DataFrame'>\n",
      "RangeIndex: 2201 entries, 0 to 2200\n",
      "Data columns (total 10 columns):\n",
      " #   Column            Non-Null Count  Dtype  \n",
      "---  ------            --------------  -----  \n",
      " 0   event_id          2201 non-null   int64  \n",
      " 1   tournament_title  2201 non-null   object \n",
      " 2   event_date        2201 non-null   object \n",
      " 3   purse             1804 non-null   float64\n",
      " 4   city              1947 non-null   object \n",
      " 5   Yards             1891 non-null   float64\n",
      " 6   par               2160 non-null   float64\n",
      " 7   golf_course       1562 non-null   object \n",
      " 8   start_date        2199 non-null   object \n",
      " 9   end_date          2199 non-null   object \n",
      "dtypes: float64(3), int64(1), object(6)\n",
      "memory usage: 172.1+ KB\n"
     ]
    }
   ],
   "source": [
    "df_tournament_details.head(3)\n",
    "df_tournament_details.info()"
   ]
  },
  {
   "cell_type": "code",
   "execution_count": 41,
   "metadata": {},
   "outputs": [],
   "source": [
    "def create_array_of_dates(start_date, end_date):\n",
    "    \"\"\"\n",
    "    creates an array of dates between start_date and end_date\n",
    "    \"\"\"\n",
    "    try:\n",
    "\n",
    "        start_date = dt.datetime.strptime(start_date, \"%Y-%m-%d\")\n",
    "        end_date = dt.datetime.strptime(end_date, \"%Y-%m-%d\")\n",
    "        end_date = end_date + dt.timedelta(days=1)\n",
    "\n",
    "        date_generated = [start_date + dt.timedelta(days=x) for x in range(0, (end_date-start_date).days)]\n",
    "        date_generated = [date.strftime(\"%Y-%m-%d\") for date in date_generated]\n",
    "        return date_generated\n",
    "    except:\n",
    "        return None\n"
   ]
  },
  {
   "cell_type": "code",
   "execution_count": 42,
   "metadata": {},
   "outputs": [],
   "source": [
    "df_tournament_details['round_dates']=\\\n",
    "df_tournament_details.apply(lambda x: create_array_of_dates(x['start_date'], x['end_date']), axis=1)\n"
   ]
  },
  {
   "cell_type": "code",
   "execution_count": 43,
   "metadata": {},
   "outputs": [],
   "source": [
    "# explode the dates to have one row per date\n",
    "df_tournament_details = df_tournament_details.explode('round_dates')"
   ]
  },
  {
   "cell_type": "markdown",
   "metadata": {},
   "source": []
  },
  {
   "cell_type": "code",
   "execution_count": 44,
   "metadata": {},
   "outputs": [],
   "source": [
    "# create a column for the round of the tournament\n",
    "df_tournament_details['round'] = df_tournament_details.groupby('event_id').cumcount() + 1"
   ]
  },
  {
   "cell_type": "markdown",
   "metadata": {},
   "source": [
    "## Merge dataframes"
   ]
  },
  {
   "cell_type": "code",
   "execution_count": 47,
   "metadata": {},
   "outputs": [],
   "source": [
    "df_merged_tournament_weather = pd.merge(df_tournament_details, df_weather_urls, left_on=\"city\", right_on=\"City\", how='left')"
   ]
  },
  {
   "cell_type": "code",
   "execution_count": 48,
   "metadata": {},
   "outputs": [],
   "source": [
    "def get_url_weather_date(base_url, date):\n",
    "    \"\"\"\n",
    "    creates a url for the weather for a specific date\n",
    "    \"\"\"\n",
    "    try:\n",
    "        match_date = re.findall(\"\\d{4}-\\d{1,2}-\\d{1,2}\", base_url)[0]\n",
    "\n",
    "        return base_url.replace(match_date, date)\n",
    "    except:\n",
    "        return None    \n",
    "    "
   ]
  },
  {
   "cell_type": "code",
   "execution_count": 49,
   "metadata": {},
   "outputs": [
    {
     "data": {
      "text/html": [
       "<div>\n",
       "<style scoped>\n",
       "    .dataframe tbody tr th:only-of-type {\n",
       "        vertical-align: middle;\n",
       "    }\n",
       "\n",
       "    .dataframe tbody tr th {\n",
       "        vertical-align: top;\n",
       "    }\n",
       "\n",
       "    .dataframe thead th {\n",
       "        text-align: right;\n",
       "    }\n",
       "</style>\n",
       "<table border=\"1\" class=\"dataframe\">\n",
       "  <thead>\n",
       "    <tr style=\"text-align: right;\">\n",
       "      <th></th>\n",
       "      <th>event_id</th>\n",
       "      <th>tournament_title</th>\n",
       "      <th>event_date</th>\n",
       "      <th>purse</th>\n",
       "      <th>city</th>\n",
       "      <th>Yards</th>\n",
       "      <th>par</th>\n",
       "      <th>golf_course</th>\n",
       "      <th>start_date</th>\n",
       "      <th>end_date</th>\n",
       "      <th>round_dates</th>\n",
       "      <th>round</th>\n",
       "      <th>City</th>\n",
       "      <th>base_url</th>\n",
       "      <th>is_golf_club</th>\n",
       "    </tr>\n",
       "  </thead>\n",
       "  <tbody>\n",
       "    <tr>\n",
       "      <th>0</th>\n",
       "      <td>1</td>\n",
       "      <td>WGC-Accenture Match Play Championship</td>\n",
       "      <td>January 4 - 7, 2001</td>\n",
       "      <td>5000000.0</td>\n",
       "      <td>NaN</td>\n",
       "      <td>NaN</td>\n",
       "      <td>NaN</td>\n",
       "      <td>NaN</td>\n",
       "      <td>2001-01-04</td>\n",
       "      <td>2001-01-07</td>\n",
       "      <td>2001-01-04</td>\n",
       "      <td>1</td>\n",
       "      <td>NaN</td>\n",
       "      <td>NaN</td>\n",
       "      <td>NaN</td>\n",
       "    </tr>\n",
       "    <tr>\n",
       "      <th>1</th>\n",
       "      <td>1</td>\n",
       "      <td>WGC-Accenture Match Play Championship</td>\n",
       "      <td>January 4 - 7, 2001</td>\n",
       "      <td>5000000.0</td>\n",
       "      <td>NaN</td>\n",
       "      <td>NaN</td>\n",
       "      <td>NaN</td>\n",
       "      <td>NaN</td>\n",
       "      <td>2001-01-04</td>\n",
       "      <td>2001-01-07</td>\n",
       "      <td>2001-01-05</td>\n",
       "      <td>2</td>\n",
       "      <td>NaN</td>\n",
       "      <td>NaN</td>\n",
       "      <td>NaN</td>\n",
       "    </tr>\n",
       "    <tr>\n",
       "      <th>2</th>\n",
       "      <td>1</td>\n",
       "      <td>WGC-Accenture Match Play Championship</td>\n",
       "      <td>January 4 - 7, 2001</td>\n",
       "      <td>5000000.0</td>\n",
       "      <td>NaN</td>\n",
       "      <td>NaN</td>\n",
       "      <td>NaN</td>\n",
       "      <td>NaN</td>\n",
       "      <td>2001-01-04</td>\n",
       "      <td>2001-01-07</td>\n",
       "      <td>2001-01-06</td>\n",
       "      <td>3</td>\n",
       "      <td>NaN</td>\n",
       "      <td>NaN</td>\n",
       "      <td>NaN</td>\n",
       "    </tr>\n",
       "  </tbody>\n",
       "</table>\n",
       "</div>"
      ],
      "text/plain": [
       "   event_id                       tournament_title           event_date  \\\n",
       "0         1  WGC-Accenture Match Play Championship  January 4 - 7, 2001   \n",
       "1         1  WGC-Accenture Match Play Championship  January 4 - 7, 2001   \n",
       "2         1  WGC-Accenture Match Play Championship  January 4 - 7, 2001   \n",
       "\n",
       "       purse city  Yards  par golf_course  start_date    end_date round_dates  \\\n",
       "0  5000000.0  NaN    NaN  NaN         NaN  2001-01-04  2001-01-07  2001-01-04   \n",
       "1  5000000.0  NaN    NaN  NaN         NaN  2001-01-04  2001-01-07  2001-01-05   \n",
       "2  5000000.0  NaN    NaN  NaN         NaN  2001-01-04  2001-01-07  2001-01-06   \n",
       "\n",
       "   round City base_url is_golf_club  \n",
       "0      1  NaN      NaN          NaN  \n",
       "1      2  NaN      NaN          NaN  \n",
       "2      3  NaN      NaN          NaN  "
      ]
     },
     "execution_count": 49,
     "metadata": {},
     "output_type": "execute_result"
    }
   ],
   "source": [
    "df_merged_tournament_weather.head(3)"
   ]
  },
  {
   "cell_type": "code",
   "execution_count": 50,
   "metadata": {},
   "outputs": [],
   "source": [
    "df_merged_tournament_weather['weather_url'] = df_merged_tournament_weather\\\n",
    "    .apply(lambda x: get_url_weather_date(x['base_url'], x['round_dates']), axis=1)\n"
   ]
  },
  {
   "cell_type": "markdown",
   "metadata": {},
   "source": [
    "# Get Table from URLs"
   ]
  },
  {
   "cell_type": "code",
   "execution_count": 116,
   "metadata": {},
   "outputs": [
    {
     "name": "stderr",
     "output_type": "stream",
     "text": [
      "/var/folders/sj/kb7kr7w572z54pgv0pftb9v00000gn/T/ipykernel_81376/2948889025.py:11: DeprecationWarning: executable_path has been deprecated, please pass in a Service object\n",
      "  driver = webdriver.Chrome(executable_path=chrome_driver_path)\n"
     ]
    }
   ],
   "source": [
    "# selenium chromedriver\n",
    "# Specify the path to the ChromeDriver executable\n",
    "chrome_driver_path = '../drivers/chromedriver_arm'\n",
    "# firefox_driver_path = '../drivers/geckodriver'\n",
    "\n",
    "#link for solution to cannot open chromedriver\n",
    "# https://stackoverflow.com/questions/60362018/macos-catalinav-10-15-3-error-chromedriver-cannot-be-opened-because-the-de\n",
    "# xattr -d com.apple.quarantine\n",
    "\n",
    "#open the browser\n",
    "driver = webdriver.Chrome(executable_path=chrome_driver_path)"
   ]
  },
  {
   "cell_type": "code",
   "execution_count": 141,
   "metadata": {},
   "outputs": [
    {
     "data": {
      "text/plain": [
       "6200"
      ]
     },
     "execution_count": 141,
     "metadata": {},
     "output_type": "execute_result"
    }
   ],
   "source": [
    "len(df_merged_tournament_weather[~df_merged_tournament_weather['weather_url'].isnull()])"
   ]
  },
  {
   "cell_type": "code",
   "execution_count": null,
   "metadata": {},
   "outputs": [
    {
     "name": "stdout",
     "output_type": "stream",
     "text": [
      "1 | Event ID: 3, Round: 1, Weather URL: https://www.wunderground.com/history/daily/KTUS/date/2001-01-11\n"
     ]
    },
    {
     "data": {
      "text/plain": [
       "<selenium.webdriver.remote.webelement.WebElement (session=\"0bedc025b500f7c668e32e00a57e625f\", element=\"f.1A7B9D02980001EDD28566461C22C8A2.d.6060179D6A947EFB435A1F95BB18C754.e.134602\")>"
      ]
     },
     "execution_count": 152,
     "metadata": {},
     "output_type": "execute_result"
    },
    {
     "name": "stdout",
     "output_type": "stream",
     "text": [
      "2 | Event ID: 3, Round: 2, Weather URL: https://www.wunderground.com/history/daily/KTUS/date/2001-01-12\n"
     ]
    },
    {
     "data": {
      "text/plain": [
       "<selenium.webdriver.remote.webelement.WebElement (session=\"0bedc025b500f7c668e32e00a57e625f\", element=\"f.1A7B9D02980001EDD28566461C22C8A2.d.AC2C513E58D0D6BFA4F4BE3C16DF99DB.e.137027\")>"
      ]
     },
     "execution_count": 152,
     "metadata": {},
     "output_type": "execute_result"
    },
    {
     "name": "stdout",
     "output_type": "stream",
     "text": [
      "3 | Event ID: 3, Round: 3, Weather URL: https://www.wunderground.com/history/daily/KTUS/date/2001-01-13\n"
     ]
    }
   ],
   "source": [
    "# import warnings filter to suppress warnings\n",
    "import warnings\n",
    "warnings.filterwarnings('ignore')\n",
    "\n",
    "#initalize the list of dataframes to store the hourly weather data\n",
    "df_list_hourly_weather_data = []\n",
    "counter = 0\n",
    "\n",
    "# loop through data framewith valid weather urls\n",
    "for index, row in df_merged_tournament_weather[~df_merged_tournament_weather['weather_url'].isnull()].iloc[4:9].iterrows():\n",
    "   \n",
    "    # for each row in dataframe that has a weather url get the event id, round and weather url\n",
    "    weather_url = row['weather_url']\n",
    "    event_id = row['event_id']\n",
    "    round = row['round']\n",
    "    tournament_city = row['city']\n",
    "    counter += 1\n",
    "\n",
    "    print(f\"{counter} | Event ID: {event_id}, Round: {round}, Weather URL: {weather_url}\")\n",
    "\n",
    "    ### Use selenium to load the page and extract the hourly weather data\n",
    "\n",
    "    # URL of the page with dynamically loaded tables\n",
    "    url = weather_url\n",
    "\n",
    "    # Load the page\n",
    "    driver.get(url)\n",
    "    driver.set_page_load_timeout(10)\n",
    "\n",
    "    # Xpath to the table with the hourly weather data\n",
    "    x_path_observation = \"/html/body/app-root/app-history/one-column-layout/wu-header/sidenav/mat-sidenav-container/mat-sidenav-content/div[2]/section/div[2]/div[1]/div[5]/div[1]/div/lib-city-history-observation/div/div[2]/table\"\n",
    "\n",
    "    try:\n",
    "        WebDriverWait(driver, 10).until(\n",
    "            EC.presence_of_element_located((By.XPATH, x_path_observation))\n",
    "        )\n",
    "        \n",
    "        # Extract the page source after javascript has loaded\n",
    "        html = driver.page_source\n",
    "        soup = BeautifulSoup(html, 'html.parser')\n",
    "\n",
    "        # Find table within the div with the class 'observation-table'\n",
    "        table_observation = soup.find('div', class_='observation-table').find('table')\n",
    "\n",
    "        # Find the actual city name from the page\n",
    "        weather_history_span = soup.find('span', string=re.compile(\"Weather History\"))\n",
    "        actual_city = weather_history_span.text.replace(\"Weather History\", \"\").strip()\n",
    "    \n",
    "\n",
    "        # Convert the hourly weather data html table to a pandas DataFrame\n",
    "        df_hourly_weather = pd.read_html(str(table_observation))[0]\n",
    "\n",
    "        #clean up rows that have nulls in the Time column\n",
    "        df_hourly_weather.dropna(subset=['Time'], inplace=True)\n",
    "\n",
    "        # adding key columns to map back to the tournament details dataframe\n",
    "        df_hourly_weather['event_id'] = event_id\n",
    "        df_hourly_weather['round'] = round\n",
    "        df_hourly_weather['weather_url'] = weather_url\n",
    "\n",
    "        #adding city columns to help compare later if that city pulled for the weather is near the tournament city\n",
    "        df_hourly_weather['tournament_city'] = tournament_city\n",
    "        df_hourly_weather['actual_weather_city'] = actual_city\n",
    "\n",
    "        # Append the hourly weather data to the list of dataframes\n",
    "        df_list_hourly_weather_data.append(df_hourly_weather)\n",
    "\n",
    "    except:\n",
    "        print(\"page did not load in time for see hourly weather table\")\n",
    "\n",
    "# Concatenate the list of hourly weather dataframes into a single dataframe\n",
    "df_hourly_weather_data_unioned = pd.concat(df_list_hourly_weather_data)\n",
    "\n"
   ]
  },
  {
   "cell_type": "markdown",
   "metadata": {},
   "source": [
    "# Write Hourly Weather to File"
   ]
  },
  {
   "cell_type": "code",
   "execution_count": 146,
   "metadata": {},
   "outputs": [],
   "source": [
    "output_path = \"../data/raw_data/weather/hourly_weather/\"\n",
    "timestamp_run = dt.datetime.now().strftime('%Y-%m-%d %Hh%Mm%Ss')\n",
    "\n",
    "os.mkdir(os.path.join(output_path, timestamp_run))\n",
    "\n",
    "df_hourly_weather_data_unioned.to_csv(f'{output_path}/{timestamp_run}/weather_city_base_urls.csv', index=False)"
   ]
  },
  {
   "cell_type": "code",
   "execution_count": null,
   "metadata": {},
   "outputs": [],
   "source": []
  },
  {
   "cell_type": "code",
   "execution_count": null,
   "metadata": {},
   "outputs": [],
   "source": []
  },
  {
   "cell_type": "code",
   "execution_count": null,
   "metadata": {},
   "outputs": [],
   "source": []
  },
  {
   "cell_type": "code",
   "execution_count": null,
   "metadata": {},
   "outputs": [],
   "source": []
  }
 ],
 "metadata": {
  "kernelspec": {
   "display_name": "myenv_arm64",
   "language": "python",
   "name": "python3"
  },
  "language_info": {
   "codemirror_mode": {
    "name": "ipython",
    "version": 3
   },
   "file_extension": ".py",
   "mimetype": "text/x-python",
   "name": "python",
   "nbconvert_exporter": "python",
   "pygments_lexer": "ipython3",
   "version": "3.9.9"
  }
 },
 "nbformat": 4,
 "nbformat_minor": 2
}
