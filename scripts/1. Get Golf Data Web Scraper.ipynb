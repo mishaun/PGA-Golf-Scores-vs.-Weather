{
 "cells": [
  {
   "cell_type": "markdown",
   "id": "6b362817",
   "metadata": {},
   "source": [
    "# Read Libs"
   ]
  },
  {
   "cell_type": "code",
   "execution_count": 1,
   "id": "df2c08bb",
   "metadata": {},
   "outputs": [
    {
     "data": {
      "text/html": [
       "\n",
       "<style>\n",
       "    .container { width:85% !important; }\n",
       "</style>\n"
      ],
      "text/plain": [
       "<IPython.core.display.HTML object>"
      ]
     },
     "metadata": {},
     "output_type": "display_data"
    }
   ],
   "source": [
    "import pandas as pd\n",
    "import datetime as dt\n",
    "import pdb\n",
    "import numpy as np\n",
    "import requests as req\n",
    "import configparser\n",
    "import os\n",
    "\n",
    "\n",
    "\n",
    "# display and output settings\n",
    "from IPython.core.interactiveshell import InteractiveShell\n",
    "InteractiveShell.ast_node_interactivity = \"all\"\n",
    "\n",
    "from IPython.display import display, HTML\n",
    "\n",
    "display(HTML('''\n",
    "<style>\n",
    "    .container { width:85% !important; }\n",
    "</style>\n",
    "'''))\n",
    "\n",
    "pd.set_option('display.min_rows', 100)"
   ]
  },
  {
   "cell_type": "markdown",
   "id": "59309e7d",
   "metadata": {},
   "source": [
    "## Get Golf Data - Webscrape ESPN as Source"
   ]
  },
  {
   "cell_type": "markdown",
   "id": "d5c87f6f",
   "metadata": {},
   "source": [
    "* espn changes tournament ids in April 1, 2018\n",
    "* see a jump ffrom 3756 in Houston Open to 401025221 for the 2018 Masters\n",
    "* RBC Heritage after the 2018 masters has ID 401025246 which jumps again\n",
    "* 2018 tour championship ID is 401025268\n",
    "* from there it appears sequential again\n",
    "* 2020 masters in november has special id: 401219478 * need to manually add this into batch #2"
   ]
  },
  {
   "cell_type": "code",
   "execution_count": 2,
   "id": "d7ade0c8",
   "metadata": {},
   "outputs": [],
   "source": [
    "from bs4 import BeautifulSoup"
   ]
  },
  {
   "cell_type": "code",
   "execution_count": 3,
   "id": "d2a90ad0",
   "metadata": {},
   "outputs": [],
   "source": [
    "# chatgpt rec'd this to be added to avoid block from website\n",
    "headers = {\n",
    "    'User-Agent': 'Mozilla/5.0 (Windows NT 10.0; Win64; x64) AppleWebKit/537.36 (KHTML, like Gecko) Chrome/58.0.3029.110 Safari/537.3'\n",
    "}"
   ]
  },
  {
   "cell_type": "code",
   "execution_count": 4,
   "id": "e1d9ed9d",
   "metadata": {},
   "outputs": [],
   "source": [
    "#batch 1 to pull data from 2001 to Apri 1 2018\n",
    "batch_1 = list(range(0, 3756))"
   ]
  },
  {
   "cell_type": "code",
   "execution_count": 5,
   "id": "cc9dd1bb",
   "metadata": {},
   "outputs": [],
   "source": [
    "#manually had to get starting and ending tournament ids based on season since they jump in values\n",
    "batch_2_years={\n",
    "\n",
    "    '2017-2018': (401025221, 401025268),\n",
    "    '2018-2019': (401056252, 401056542),\n",
    "    '2019-2020': (401148233, 401148245),\n",
    "    'Jan2020-Sep2020': (401155413, 401155476),\n",
    "    'Sep2020-Dec2020': (401219793, 401219802),\n",
    "    'masters2020': (401219478, 401219478),\n",
    "    'Jan2021-Sep2021': (401242996, 401243402),\n",
    "    'Sep2021-Aug2022': (401353193, 401353276),\n",
    "    'Sep2022-Aug2022': (401465496, 401465545),\n",
    "    'Sep2022-Dec2023':(401552854, 401552861),\n",
    "    'Jan2024-Aug2024':(401580329, 401580366)\n",
    "    \n",
    "    \n",
    "}\n",
    "\n",
    "# looking at number of id's to request\n",
    "# for k, v in batch_2_years.items():\n",
    "#     print(f\"{k}: {v[1] - v[0]}\")"
   ]
  },
  {
   "cell_type": "code",
   "execution_count": 6,
   "id": "fda07ae2",
   "metadata": {},
   "outputs": [],
   "source": [
    "# for the dictionary in batch_2 ids, loop through and create ranges for start and end values\n",
    "# have to add 1 to end value because range is exclusive on the end parameter\n",
    "\n",
    "batch_2 = []\n",
    "for values in batch_2_years.values():\n",
    "    generate_ids = list(range(values[0], values[1]+1))\n",
    "    batch_2 += generate_ids"
   ]
  },
  {
   "cell_type": "code",
   "execution_count": 7,
   "id": "8bc1cc88",
   "metadata": {},
   "outputs": [],
   "source": [
    "# bach 2 for the jump in numbers\n",
    "id_list = batch_1 + batch_2"
   ]
  },
  {
   "cell_type": "code",
   "execution_count": 8,
   "id": "c18c43a2",
   "metadata": {},
   "outputs": [],
   "source": [
    "# dictionary holds html elements for key details on webpage\n",
    "data_info = {\n",
    "    'tournament_title': {\n",
    "        'element': 'h1',\n",
    "        'css_class': 'headline headline__h1 Leaderboard__Event__Title'\n",
    "    },\n",
    "    'event_date': {\n",
    "        'element': 'span',\n",
    "        'css_class': 'Leaderboard__Event__Date n7'\n",
    "    },\n",
    "    'golf_course': {\n",
    "        'element': 'div',\n",
    "        'css_class': 'Leaderboard__Course__Location n8 clr-gray-04'\n",
    "    },\n",
    "    'course_details': {\n",
    "        'element': 'div',\n",
    "        'css_class': 'Leaderboard__Course__Location__Detail n8 clr-gray-04'\n",
    "    },\n",
    "    'purse': {\n",
    "        'element': 'div',\n",
    "        'css_class': 'n7 clr-gray-04'\n",
    "    }\n",
    "}\n"
   ]
  },
  {
   "cell_type": "code",
   "execution_count": 14,
   "id": "1b9dd9a2",
   "metadata": {},
   "outputs": [],
   "source": [
    "# initialize dataframe to store results\n",
    "df_tournament_details_df = pd.DataFrame(columns = ['event_id'] + list(data_info.keys()))\n",
    "df_tournament_details_df['event_id'] = id_list"
   ]
  },
  {
   "cell_type": "code",
   "execution_count": 15,
   "id": "e1d92e8d",
   "metadata": {
    "scrolled": true
   },
   "outputs": [
    {
     "name": "stdout",
     "output_type": "stream",
     "text": [
      "No details found for tournament ID: 401025222 for field: golf_course\n",
      "No details found for tournament ID: 401025222 for field: course_details\n",
      "No details found for tournament ID: 401025223 for field: golf_course\n",
      "No details found for tournament ID: 401025223 for field: course_details\n",
      "No details found for tournament ID: 401025224 for field: golf_course\n",
      "No details found for tournament ID: 401025224 for field: course_details\n",
      "No details found for tournament ID: 401025225 for field: golf_course\n",
      "No details found for tournament ID: 401025225 for field: course_details\n",
      "No details found for tournament ID: 401025226 for field: golf_course\n",
      "No details found for tournament ID: 401025226 for field: course_details\n",
      "No details found for tournament ID: 401025227 for field: golf_course\n",
      "No details found for tournament ID: 401025227 for field: course_details\n",
      "No details found for tournament ID: 401025228 for field: golf_course\n",
      "No details found for tournament ID: 401025228 for field: course_details\n",
      "No details found for tournament ID: 401025229 for field: golf_course\n",
      "No details found for tournament ID: 401025229 for field: course_details\n",
      "No details found for tournament ID: 401025230 for field: golf_course\n",
      "No details found for tournament ID: 401025230 for field: course_details\n"
     ]
    }
   ],
   "source": [
    "timestamp_run = dt.datetime.now().strftime('%Y-%m-%d %Hh%Mm%Ss')\n",
    "\n",
    "# for tournament_id in batch_1:\n",
    "for tournament_id in batch_2:\n",
    "\n",
    "    try:\n",
    "        res = req.get(f\"https://www.espn.com/golf/leaderboard/_/tournamentId/{tournament_id}\", headers = headers)\n",
    "        soup = BeautifulSoup(res.content, 'lxml')\n",
    "\n",
    "        for col,v in data_info.items():\n",
    "            try:\n",
    "                value = soup.find(v['element'], class_= v['css_class']).get_text()\n",
    "            except:\n",
    "                value = f\"No details found\"\n",
    "                print(f\"No details found for tournament ID: {tournament_id} for field: {col}\")\n",
    "\n",
    "            # line of code inserts data into dataframe at appropriate tournement ID\n",
    "            df_tournament_details_df.loc[df_tournament_details_df['event_id'] == tournament_id, col] = value\n",
    "    except:\n",
    "        print(f\"Could not request page for tournament ID: {tournament_id}\")\n",
    "\n",
    "### Save Data to Folder\n",
    "\n",
    "\n",
    "# output_path = f\"/Users/Mishaun_Bhakta/Documents/Python & Projects/Projects/PGA Golf Data/data/raw_data/tournament_info/batch_1\"\n",
    "output_path = f\"/Users/Mishaun_Bhakta/Documents/Python & Projects/Projects/PGA Golf Data/data/raw_data/tournament_info/batch_2\"\n",
    "\n",
    "os.mkdir(os.path.join(output_path, timestamp_run))\n",
    "df_tournament_details_df.to_csv(f\"{output_path}/{timestamp_run}/tournament_info.csv\", index = False)"
   ]
  },
  {
   "cell_type": "code",
   "execution_count": 171,
   "id": "6c55ebc0",
   "metadata": {},
   "outputs": [],
   "source": [
    "# test code for detecting elements on page\n",
    "\n",
    "# try:\n",
    "#     tournament_title = soup.find('h1', class_='headline headline__h1 Leaderboard__Event__Title').get_text()\n",
    "#     event_date = soup.find('span', 'Leaderboard__Event__Date n7').get_text()\n",
    "\n",
    "#     golf_course = soup.find('div', class_='Leaderboard__Course__Location n8 clr-gray-04').get_text()\n",
    "#     course_details = soup.find('div', class_ = 'Leaderboard__Course__Location__Detail n8 clr-gray-04').get_text()\n",
    "#     purse = soup.find('div', class_ = 'n7 clr-gray-04').get_text()\n",
    "\n",
    "#     tournament_title\n",
    "#     event_date\n",
    "#     golf_course\n",
    "#     course_details\n",
    "#     purse\n",
    "# except:\n",
    "#     print(f\"No details found for tournament ID = {tournament_id}\")"
   ]
  },
  {
   "cell_type": "markdown",
   "id": "fc024e96",
   "metadata": {},
   "source": [
    "## Gather Scores"
   ]
  },
  {
   "cell_type": "code",
   "execution_count": null,
   "id": "e616429a",
   "metadata": {
    "scrolled": false
   },
   "outputs": [],
   "source": [
    "timestamp_run = dt.datetime.now().strftime('%Y-%m-%d %Hh%Mm%Ss')\n",
    "tournament_scores_df_list = []\n",
    "\n",
    "for tournament_id in batch_1:\n",
    "# for tournament_id in batch_2:\n",
    "    \n",
    "    print(f'running tournament id: {tournament_id}')\n",
    "\n",
    "    try:\n",
    "        url =f\"https://www.espn.com/golf/leaderboard/_/tournamentId/{tournament_id}\"\n",
    "        html_tables = pd.read_html(url)\n",
    "        \n",
    "        #if the length of the tables in thh data set is just 1, then we will assume is is the scores\n",
    "        if len(html_tables) == 1:\n",
    "            scores = html_tables[0]\n",
    "        #if there are more than 1 table, we need to loop into it and check length of records\n",
    "        # this occurs when there is a playoff and there are more than 1 table shown on the tournament page\n",
    "        elif len(html_tables) > 1:\n",
    "            for index,table in enumerate(html_tables):\n",
    "                if len(table) >=5: #using 5 as an adequate number of records for minimum\n",
    "                    scores = html_tables[index]\n",
    "                else:\n",
    "                    scores = \"Not Available\"\n",
    "                    \n",
    "        scores['event_id'] = tournament_id\n",
    "        tournament_scores_df_list.append(scores)\n",
    "        \n",
    "    except:\n",
    "        print(f\"tournament scores not available for ID: {tournament_id}\")\n",
    "\n",
    "### Save Data to Folder\n",
    "\n",
    "tournament_scores_df = pd.concat(tournament_scores_df_list)\n",
    "\n",
    "output_path = f\"/Users/Mishaun_Bhakta/Documents/Python & Projects/Projects/PGA Golf Data/data/raw_data/tournament_scores/batch_1\"\n",
    "# output_path = f\"/Users/Mishaun_Bhakta/Documents/Python & Projects/Projects/PGA Golf Data/data/raw_data/tournament_scores/batch_2\"\n",
    "os.mkdir(os.path.join(output_path, timestamp_run))\n",
    "tournament_scores_df.to_csv(f\"{output_path}/{timestamp_run}/tournament_scores.csv\", index = False)"
   ]
  },
  {
   "cell_type": "code",
   "execution_count": null,
   "id": "7680e649",
   "metadata": {},
   "outputs": [],
   "source": []
  }
 ],
 "metadata": {
  "kernelspec": {
   "display_name": "myenv_arm64",
   "language": "python",
   "name": "python3"
  },
  "language_info": {
   "codemirror_mode": {
    "name": "ipython",
    "version": 3
   },
   "file_extension": ".py",
   "mimetype": "text/x-python",
   "name": "python",
   "nbconvert_exporter": "python",
   "pygments_lexer": "ipython3",
   "version": "3.9.9"
  },
  "toc": {
   "base_numbering": 1,
   "nav_menu": {},
   "number_sections": true,
   "sideBar": true,
   "skip_h1_title": false,
   "title_cell": "Table of Contents",
   "title_sidebar": "Contents",
   "toc_cell": false,
   "toc_position": {},
   "toc_section_display": true,
   "toc_window_display": true
  },
  "varInspector": {
   "cols": {
    "lenName": 16,
    "lenType": 16,
    "lenVar": 40
   },
   "kernels_config": {
    "python": {
     "delete_cmd_postfix": "",
     "delete_cmd_prefix": "del ",
     "library": "var_list.py",
     "varRefreshCmd": "print(var_dic_list())"
    },
    "r": {
     "delete_cmd_postfix": ") ",
     "delete_cmd_prefix": "rm(",
     "library": "var_list.r",
     "varRefreshCmd": "cat(var_dic_list()) "
    }
   },
   "types_to_exclude": [
    "module",
    "function",
    "builtin_function_or_method",
    "instance",
    "_Feature"
   ],
   "window_display": false
  }
 },
 "nbformat": 4,
 "nbformat_minor": 5
}
