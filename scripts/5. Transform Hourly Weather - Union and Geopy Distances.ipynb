{
 "cells": [
  {
   "cell_type": "markdown",
   "metadata": {},
   "source": [
    "# Read Libs"
   ]
  },
  {
   "cell_type": "code",
   "execution_count": 1,
   "metadata": {},
   "outputs": [
    {
     "data": {
      "text/html": [
       "\n",
       "<style>\n",
       "    .container { width:85% !important; }\n",
       "</style>\n"
      ],
      "text/plain": [
       "<IPython.core.display.HTML object>"
      ]
     },
     "metadata": {},
     "output_type": "display_data"
    }
   ],
   "source": [
    "import pandas as pd\n",
    "import datetime as dt\n",
    "import numpy as np\n",
    "import os\n",
    "\n",
    "# display and output settings\n",
    "from IPython.core.interactiveshell import InteractiveShell\n",
    "InteractiveShell.ast_node_interactivity = \"all\"\n",
    "\n",
    "from IPython.display import display, HTML\n",
    "\n",
    "\n",
    "display(HTML('''\n",
    "<style>\n",
    "    .container { width:85% !important; }\n",
    "</style>\n",
    "'''))\n",
    "\n",
    "pd.set_option('display.min_rows', 100)"
   ]
  },
  {
   "cell_type": "markdown",
   "metadata": {},
   "source": [
    "# Read Files In"
   ]
  },
  {
   "cell_type": "code",
   "execution_count": 2,
   "metadata": {},
   "outputs": [],
   "source": [
    "path_data_hourly_raw = \"../data/raw_data/weather/hourly_weather/\""
   ]
  },
  {
   "cell_type": "code",
   "execution_count": 3,
   "metadata": {},
   "outputs": [],
   "source": [
    "folders_batches = list(filter(lambda x: x != \".DS_Store\", os.listdir(path_data_hourly_raw)))\n",
    "folders_batches = sorted(map(lambda x: int(x), folders_batches))"
   ]
  },
  {
   "cell_type": "code",
   "execution_count": 4,
   "metadata": {},
   "outputs": [],
   "source": [
    "list_df_weather = []\n",
    "\n",
    "# loop through the folders and get the latest file in each folder \n",
    "for batch in folders_batches:\n",
    "    # get the list of files in the batch folder\n",
    "    files_timestamps_in_batch = os.listdir(path_data_hourly_raw + str(batch))\n",
    "    # remove the .DS_Store file\n",
    "    files_timestamps_in_batch = list(filter(lambda x: x != \".DS_Store\", files_timestamps_in_batch))\n",
    "\n",
    "    # pull the latest file in the batch\n",
    "    folder_latest_timestamp = max(files_timestamps_in_batch)\n",
    "    file_name_csv = \"hourly_weather_data.csv\"\n",
    "\n",
    "    df_batch_weather = pd.read_csv(os.path.join(path_data_hourly_raw, str(batch), folder_latest_timestamp, file_name_csv))\n",
    "    list_df_weather.append(df_batch_weather)\n",
    "\n",
    "df_hourly_weather = pd.concat(list_df_weather, axis=0, ignore_index=True)\n",
    "    "
   ]
  },
  {
   "cell_type": "markdown",
   "metadata": {},
   "source": [
    "# Compare Distances from Weather Actual City Pulled and Tournament City"
   ]
  },
  {
   "cell_type": "code",
   "execution_count": 12,
   "metadata": {},
   "outputs": [
    {
     "data": {
      "text/html": [
       "<div>\n",
       "<style scoped>\n",
       "    .dataframe tbody tr th:only-of-type {\n",
       "        vertical-align: middle;\n",
       "    }\n",
       "\n",
       "    .dataframe tbody tr th {\n",
       "        vertical-align: top;\n",
       "    }\n",
       "\n",
       "    .dataframe thead th {\n",
       "        text-align: right;\n",
       "    }\n",
       "</style>\n",
       "<table border=\"1\" class=\"dataframe\">\n",
       "  <thead>\n",
       "    <tr style=\"text-align: right;\">\n",
       "      <th></th>\n",
       "      <th>Time</th>\n",
       "      <th>Temperature</th>\n",
       "      <th>Dew Point</th>\n",
       "      <th>Humidity</th>\n",
       "      <th>Wind</th>\n",
       "      <th>Wind Speed</th>\n",
       "      <th>Wind Gust</th>\n",
       "      <th>Pressure</th>\n",
       "      <th>Precip.</th>\n",
       "      <th>Condition</th>\n",
       "      <th>event_id</th>\n",
       "      <th>round</th>\n",
       "      <th>weather_url</th>\n",
       "      <th>tournament_city</th>\n",
       "      <th>actual_weather_city</th>\n",
       "    </tr>\n",
       "  </thead>\n",
       "  <tbody>\n",
       "    <tr>\n",
       "      <th>0</th>\n",
       "      <td>5:00 AM</td>\n",
       "      <td>34 °F</td>\n",
       "      <td>27 °F</td>\n",
       "      <td>75 °%</td>\n",
       "      <td>NW</td>\n",
       "      <td>5 °mph</td>\n",
       "      <td>0 °mph</td>\n",
       "      <td>28.70 °in</td>\n",
       "      <td>0.0 °in</td>\n",
       "      <td>Fair</td>\n",
       "      <td>2</td>\n",
       "      <td>1</td>\n",
       "      <td>https://www.wunderground.com/history/daily/RJO...</td>\n",
       "      <td>Kapalua, HI</td>\n",
       "      <td>Mihara, Hiroshima, Japan</td>\n",
       "    </tr>\n",
       "    <tr>\n",
       "      <th>1</th>\n",
       "      <td>6:00 AM</td>\n",
       "      <td>32 °F</td>\n",
       "      <td>28 °F</td>\n",
       "      <td>87 °%</td>\n",
       "      <td>NW</td>\n",
       "      <td>8 °mph</td>\n",
       "      <td>0 °mph</td>\n",
       "      <td>28.70 °in</td>\n",
       "      <td>0.0 °in</td>\n",
       "      <td>Fair</td>\n",
       "      <td>2</td>\n",
       "      <td>1</td>\n",
       "      <td>https://www.wunderground.com/history/daily/RJO...</td>\n",
       "      <td>Kapalua, HI</td>\n",
       "      <td>Mihara, Hiroshima, Japan</td>\n",
       "    </tr>\n",
       "    <tr>\n",
       "      <th>2</th>\n",
       "      <td>7:00 AM</td>\n",
       "      <td>32 °F</td>\n",
       "      <td>27 °F</td>\n",
       "      <td>80 °%</td>\n",
       "      <td>WNW</td>\n",
       "      <td>3 °mph</td>\n",
       "      <td>0 °mph</td>\n",
       "      <td>28.73 °in</td>\n",
       "      <td>0.0 °in</td>\n",
       "      <td>Fair</td>\n",
       "      <td>2</td>\n",
       "      <td>1</td>\n",
       "      <td>https://www.wunderground.com/history/daily/RJO...</td>\n",
       "      <td>Kapalua, HI</td>\n",
       "      <td>Mihara, Hiroshima, Japan</td>\n",
       "    </tr>\n",
       "  </tbody>\n",
       "</table>\n",
       "</div>"
      ],
      "text/plain": [
       "      Time Temperature Dew Point Humidity Wind Wind Speed Wind Gust  \\\n",
       "0  5:00 AM       34 °F     27 °F    75 °%   NW     5 °mph    0 °mph   \n",
       "1  6:00 AM       32 °F     28 °F    87 °%   NW     8 °mph    0 °mph   \n",
       "2  7:00 AM       32 °F     27 °F    80 °%  WNW     3 °mph    0 °mph   \n",
       "\n",
       "    Pressure  Precip. Condition  event_id  round  \\\n",
       "0  28.70 °in  0.0 °in      Fair         2      1   \n",
       "1  28.70 °in  0.0 °in      Fair         2      1   \n",
       "2  28.73 °in  0.0 °in      Fair         2      1   \n",
       "\n",
       "                                         weather_url tournament_city  \\\n",
       "0  https://www.wunderground.com/history/daily/RJO...     Kapalua, HI   \n",
       "1  https://www.wunderground.com/history/daily/RJO...     Kapalua, HI   \n",
       "2  https://www.wunderground.com/history/daily/RJO...     Kapalua, HI   \n",
       "\n",
       "        actual_weather_city  \n",
       "0  Mihara, Hiroshima, Japan  \n",
       "1  Mihara, Hiroshima, Japan  \n",
       "2  Mihara, Hiroshima, Japan  "
      ]
     },
     "execution_count": 12,
     "metadata": {},
     "output_type": "execute_result"
    }
   ],
   "source": [
    "df_hourly_weather.head(3)"
   ]
  },
  {
   "cell_type": "markdown",
   "metadata": {},
   "source": [
    "### Use GeoPy Lib and Create Functions"
   ]
  },
  {
   "cell_type": "code",
   "execution_count": 5,
   "metadata": {},
   "outputs": [],
   "source": [
    "from geopy.geocoders import Nominatim\n",
    "from geopy.distance import geodesic\n",
    "\n",
    "def geocode_city(city_name):\n",
    "    \"\"\"\n",
    "    Geocode a city name to obtain its geographical location.\n",
    "    This function uses the Nominatim geocoding service to convert a city name into its corresponding geographical location (latitude and longitude).\n",
    "    Args:\n",
    "        city_name (str): The name of the city to geocode.\n",
    "    Returns:\n",
    "        location (Location or None): A Location object containing the geographical coordinates of the city if successful, or None if the geocoding times out.\n",
    "    Raises:\n",
    "        GeocoderTimedOut: If the geocoding request times out.\n",
    "    \"\"\"\n",
    "\n",
    "    geolocator = Nominatim(user_agent=\"my_geocoder\")\n",
    "    try:\n",
    "        location = geolocator.geocode(city_name, timeout=10)\n",
    "        return location\n",
    "    except GeocoderTimedOut:\n",
    "        print(f\"Geocoding timed out for city: {city_name}\")\n",
    "        return None\n",
    "\n",
    "def get_distance(city1, city2):\n",
    "    \"\"\"\n",
    "    Calculate the distance in miles between two cities using their geographical coordinates.\n",
    "    Args:\n",
    "        city1 (obj): object of matched city with geopy.\n",
    "        city2 (obj): object of matched city with geopy.\n",
    "    Returns:\n",
    "        float: The distance between the two cities in miles.\n",
    "    Raises:\n",
    "        GeocoderTimedOut: If the geocoding service times out.\n",
    "        GeocoderServiceError: If there is an issue with the geocoding service.\n",
    "        AttributeError: If the geocoding service does not return valid coordinates for the cities.\n",
    "    \"\"\"\n",
    "    try:\n",
    "        distance = geodesic((city1.latitude, city1.longitude), \n",
    "                        (city2.latitude, city2.longitude)).miles\n",
    "        \n",
    "        return distance\n",
    "\n",
    "    except:\n",
    "        return None\n",
    "\n",
    "    \n"
   ]
  },
  {
   "cell_type": "code",
   "execution_count": 6,
   "metadata": {},
   "outputs": [],
   "source": [
    "# test_object = geocode_city(\"Kapalua, HI\")\n",
    "# test_object\n",
    "# test_object[0]\n",
    "# test_object.latitude\n",
    "\n",
    "# get_distance(\"Kapalua, HI\", \"Mihara, Hiroshima, Japan\")"
   ]
  },
  {
   "cell_type": "markdown",
   "metadata": {},
   "source": [
    "### Create Column for GeoPy matched City Name"
   ]
  },
  {
   "cell_type": "markdown",
   "metadata": {},
   "source": [
    "#### Aggregate/select distinct dataframe to city levels"
   ]
  },
  {
   "cell_type": "code",
   "execution_count": 44,
   "metadata": {},
   "outputs": [],
   "source": [
    "df_distinct_cities = \\\n",
    "df_hourly_weather[['tournament_city', 'actual_weather_city']].drop_duplicates().reset_index(drop=True)\n"
   ]
  },
  {
   "cell_type": "code",
   "execution_count": 45,
   "metadata": {},
   "outputs": [],
   "source": [
    "df_distinct_cities['geopy_city_match_tournament'] = df_distinct_cities['tournament_city'].apply(lambda x: geocode_city(x))\n",
    "df_distinct_cities['geopy_city_match_weather'] = df_distinct_cities['actual_weather_city'].apply(lambda x: geocode_city(x))"
   ]
  },
  {
   "cell_type": "markdown",
   "metadata": {},
   "source": [
    "### Create Distance Column Between Geopy Matched City"
   ]
  },
  {
   "cell_type": "code",
   "execution_count": null,
   "metadata": {},
   "outputs": [],
   "source": [
    "df_distinct_cities['distance_between_cities'] = \\\n",
    "df_distinct_cities.apply(lambda x: get_distance(x['geopy_city_match_tournament'], x['geopy_city_match_weather']), axis=1)"
   ]
  },
  {
   "cell_type": "markdown",
   "metadata": {},
   "source": [
    "### EDA on Distances"
   ]
  },
  {
   "cell_type": "code",
   "execution_count": 66,
   "metadata": {},
   "outputs": [
    {
     "name": "stdout",
     "output_type": "stream",
     "text": [
      " describe entire data frame \n",
      "-----------\n",
      "\n"
     ]
    },
    {
     "data": {
      "text/html": [
       "<div>\n",
       "<style scoped>\n",
       "    .dataframe tbody tr th:only-of-type {\n",
       "        vertical-align: middle;\n",
       "    }\n",
       "\n",
       "    .dataframe tbody tr th {\n",
       "        vertical-align: top;\n",
       "    }\n",
       "\n",
       "    .dataframe thead th {\n",
       "        text-align: right;\n",
       "    }\n",
       "</style>\n",
       "<table border=\"1\" class=\"dataframe\">\n",
       "  <thead>\n",
       "    <tr style=\"text-align: right;\">\n",
       "      <th></th>\n",
       "      <th>distance_between_cities</th>\n",
       "    </tr>\n",
       "  </thead>\n",
       "  <tbody>\n",
       "    <tr>\n",
       "      <th>count</th>\n",
       "      <td>253.000000</td>\n",
       "    </tr>\n",
       "    <tr>\n",
       "      <th>mean</th>\n",
       "      <td>478.154960</td>\n",
       "    </tr>\n",
       "    <tr>\n",
       "      <th>std</th>\n",
       "      <td>1625.582132</td>\n",
       "    </tr>\n",
       "    <tr>\n",
       "      <th>min</th>\n",
       "      <td>0.000000</td>\n",
       "    </tr>\n",
       "    <tr>\n",
       "      <th>25%</th>\n",
       "      <td>1.762107</td>\n",
       "    </tr>\n",
       "    <tr>\n",
       "      <th>50%</th>\n",
       "      <td>10.654821</td>\n",
       "    </tr>\n",
       "    <tr>\n",
       "      <th>75%</th>\n",
       "      <td>24.758772</td>\n",
       "    </tr>\n",
       "    <tr>\n",
       "      <th>max</th>\n",
       "      <td>10526.609132</td>\n",
       "    </tr>\n",
       "  </tbody>\n",
       "</table>\n",
       "</div>"
      ],
      "text/plain": [
       "       distance_between_cities\n",
       "count               253.000000\n",
       "mean                478.154960\n",
       "std                1625.582132\n",
       "min                   0.000000\n",
       "25%                   1.762107\n",
       "50%                  10.654821\n",
       "75%                  24.758772\n",
       "max               10526.609132"
      ]
     },
     "execution_count": 66,
     "metadata": {},
     "output_type": "execute_result"
    }
   ],
   "source": [
    "print(\" describe entire data frame \\n-----------\\n\")\n",
    "df_distinct_cities.describe()\n"
   ]
  },
  {
   "cell_type": "code",
   "execution_count": 65,
   "metadata": {},
   "outputs": [
    {
     "name": "stdout",
     "output_type": "stream",
     "text": [
      " describe filtered data frame \n",
      "-----------\n",
      "\n"
     ]
    },
    {
     "data": {
      "text/html": [
       "<div>\n",
       "<style scoped>\n",
       "    .dataframe tbody tr th:only-of-type {\n",
       "        vertical-align: middle;\n",
       "    }\n",
       "\n",
       "    .dataframe tbody tr th {\n",
       "        vertical-align: top;\n",
       "    }\n",
       "\n",
       "    .dataframe thead th {\n",
       "        text-align: right;\n",
       "    }\n",
       "</style>\n",
       "<table border=\"1\" class=\"dataframe\">\n",
       "  <thead>\n",
       "    <tr style=\"text-align: right;\">\n",
       "      <th></th>\n",
       "      <th>distance_between_cities</th>\n",
       "    </tr>\n",
       "  </thead>\n",
       "  <tbody>\n",
       "    <tr>\n",
       "      <th>count</th>\n",
       "      <td>230.000000</td>\n",
       "    </tr>\n",
       "    <tr>\n",
       "      <th>mean</th>\n",
       "      <td>34.442402</td>\n",
       "    </tr>\n",
       "    <tr>\n",
       "      <th>std</th>\n",
       "      <td>109.486928</td>\n",
       "    </tr>\n",
       "    <tr>\n",
       "      <th>min</th>\n",
       "      <td>0.000000</td>\n",
       "    </tr>\n",
       "    <tr>\n",
       "      <th>25%</th>\n",
       "      <td>0.000000</td>\n",
       "    </tr>\n",
       "    <tr>\n",
       "      <th>50%</th>\n",
       "      <td>9.949146</td>\n",
       "    </tr>\n",
       "    <tr>\n",
       "      <th>75%</th>\n",
       "      <td>19.595706</td>\n",
       "    </tr>\n",
       "    <tr>\n",
       "      <th>max</th>\n",
       "      <td>862.670225</td>\n",
       "    </tr>\n",
       "  </tbody>\n",
       "</table>\n",
       "</div>"
      ],
      "text/plain": [
       "       distance_between_cities\n",
       "count               230.000000\n",
       "mean                 34.442402\n",
       "std                 109.486928\n",
       "min                   0.000000\n",
       "25%                   0.000000\n",
       "50%                   9.949146\n",
       "75%                  19.595706\n",
       "max                 862.670225"
      ]
     },
     "execution_count": 65,
     "metadata": {},
     "output_type": "execute_result"
    }
   ],
   "source": [
    "\n",
    "print(\" describe filtered data frame \\n-----------\\n\")\n",
    "df_distinct_cities[df_distinct_cities['distance_between_cities'] < 1000].describe()\n"
   ]
  },
  {
   "cell_type": "code",
   "execution_count": 67,
   "metadata": {},
   "outputs": [
    {
     "data": {
      "text/plain": [
       "<Axes: ylabel='Frequency'>"
      ]
     },
     "execution_count": 67,
     "metadata": {},
     "output_type": "execute_result"
    },
    {
     "data": {
      "text/plain": [
       "Text(0.5, 1.0, 'Distribution of Distances Between Cities')"
      ]
     },
     "execution_count": 67,
     "metadata": {},
     "output_type": "execute_result"
    },
    {
     "data": {
      "text/plain": [
       "Text(0.5, 0, 'Distance (miles)')"
      ]
     },
     "execution_count": 67,
     "metadata": {},
     "output_type": "execute_result"
    },
    {
     "data": {
      "text/plain": [
       "Text(0, 0.5, 'Frequency')"
      ]
     },
     "execution_count": 67,
     "metadata": {},
     "output_type": "execute_result"
    },
    {
     "data": {
      "image/png": "[encoded data removed]",
      "text/plain": [
       "<Figure size 640x480 with 1 Axes>"
      ]
     },
     "metadata": {},
     "output_type": "display_data"
    }
   ],
   "source": [
    "\n",
    "import matplotlib.pyplot as plt\n",
    "\n",
    "df_distinct_cities[df_distinct_cities['distance_between_cities'] < 1000]\\\n",
    "    .plot(kind='hist', bins=100, edgecolor='black')\n",
    "\n",
    "\n",
    "plt.title('Distribution of Distances Between Cities')\n",
    "plt.xlabel('Distance (miles)')\n",
    "plt.ylabel('Frequency')\n",
    "plt.show()"
   ]
  },
  {
   "cell_type": "markdown",
   "metadata": {},
   "source": [
    "### Create Flag for Valid Weather Data"
   ]
  },
  {
   "cell_type": "code",
   "execution_count": 58,
   "metadata": {},
   "outputs": [],
   "source": [
    "# set the threshold distance to x miles\n",
    "# choosing 35 miles as the threshold distance\n",
    "\n",
    "threshold_distance = 35\n",
    "df_distinct_cities['flag_valid_weather'] = df_distinct_cities['distance_between_cities'].apply(lambda x: 'Y' if x < threshold_distance else 'N')"
   ]
  },
  {
   "cell_type": "markdown",
   "metadata": {},
   "source": [
    "### Join Back to Hourly Weather"
   ]
  },
  {
   "cell_type": "code",
   "execution_count": 72,
   "metadata": {},
   "outputs": [],
   "source": [
    "# filtering the data frame to only include the valid weather data\n",
    "df_valid_weather = df_distinct_cities\\\n",
    "    [df_distinct_cities['flag_valid_weather'] == 'Y']\\\n",
    "        [['tournament_city', 'distance_between_cities', 'flag_valid_weather']]"
   ]
  },
  {
   "cell_type": "code",
   "execution_count": 74,
   "metadata": {},
   "outputs": [],
   "source": [
    "# inner join to get the valid weather data only \n",
    "df_hourly_weather_valid = pd.merge(df_hourly_weather, \n",
    "         df_valid_weather,\n",
    "         on='tournament_city', \n",
    "         how='inner'\n",
    "         )"
   ]
  },
  {
   "cell_type": "code",
   "execution_count": 77,
   "metadata": {},
   "outputs": [
    {
     "data": {
      "text/plain": [
       "1525"
      ]
     },
     "execution_count": 77,
     "metadata": {},
     "output_type": "execute_result"
    },
    {
     "data": {
      "text/plain": [
       "1381"
      ]
     },
     "execution_count": 77,
     "metadata": {},
     "output_type": "execute_result"
    }
   ],
   "source": [
    "# comparing the number of unique events in the original and valid weather data frames\n",
    "df_hourly_weather['event_id'].nunique()\n",
    "df_hourly_weather_valid['event_id'].nunique()"
   ]
  },
  {
   "cell_type": "markdown",
   "metadata": {},
   "source": [
    "# Write to File to Preserve Geopy API required lookups "
   ]
  },
  {
   "cell_type": "code",
   "execution_count": 79,
   "metadata": {},
   "outputs": [],
   "source": [
    "output_path = \"../data/transformed_data/weather_data/valid_weather_geopy\"\n",
    "\n",
    "timestamp_run = dt.datetime.now().strftime('%Y-%m-%d %Hh%Mm%Ss')\n",
    "\n",
    "os.mkdir(os.path.join(output_path, timestamp_run))\n",
    "\n",
    "df_hourly_weather_valid.to_csv(f'{output_path}/{timestamp_run}/valid_geopy_hourly_weather.csv', index=False)"
   ]
  }
 ],
 "metadata": {
  "kernelspec": {
   "display_name": "myenv_arm64",
   "language": "python",
   "name": "python3"
  },
  "language_info": {
   "codemirror_mode": {
    "name": "ipython",
    "version": 3
   },
   "file_extension": ".py",
   "mimetype": "text/x-python",
   "name": "python",
   "nbconvert_exporter": "python",
   "pygments_lexer": "ipython3",
   "version": "3.9.9"
  }
 },
 "nbformat": 4,
 "nbformat_minor": 2
}
